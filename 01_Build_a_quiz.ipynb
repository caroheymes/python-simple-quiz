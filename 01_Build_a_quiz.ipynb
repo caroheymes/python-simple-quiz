{
  "nbformat": 4,
  "nbformat_minor": 0,
  "metadata": {
    "colab": {
      "name": "01-Build_a_quiz.ipynb",
      "provenance": [],
      "collapsed_sections": []
    },
    "kernelspec": {
      "name": "python3",
      "display_name": "Python 3.8.6 64-bit",
      "metadata": {
        "interpreter": {
          "hash": "1ee38ef4a5a9feb55287fd749643f13d043cb0a7addaab2a9c224cbe137c0062"
        }
      }
    },
    "language_info": {
      "codemirror_mode": {
        "name": "ipython",
        "version": 3
      },
      "file_extension": ".py",
      "mimetype": "text/x-python",
      "name": "python",
      "nbconvert_exporter": "python",
      "pygments_lexer": "ipython3",
      "version": "3.8.6-final"
    }
  },
  "cells": [
    {
      "cell_type": "markdown",
      "metadata": {
        "id": "FY347VxWs_bJ"
      },
      "source": [
        "# Build a quizz\n",
        "\n",
        "---\n",
        "\n",
        "\n"
      ]
    },
    {
      "cell_type": "markdown",
      "metadata": {
        "id": "qJizpyqVwYnF"
      },
      "source": [
        "Let's tackle our first project together. Find a partner and start coding a quiz together! Your program should: \n",
        "\n",
        "1. Ask a question to a user via the console \n",
        "2. Verify whether the answer is correct or not \n",
        "3. If the answer is correct, you should print out: `Good job! This is the right answer`\n",
        "\n",
        "* Else, it should print out : `Too bad! that is not the correct answer`\n",
        "\n",
        "4. Ask three questions following this model.\n",
        "\n"
      ]
    },
    {
      "cell_type": "code",
      "metadata": {
        "id": "VJ4P0QlOohAo"
      },
      "source": [
        "def question():\n",
        "\n",
        "  counter = 0\n",
        "  while counter < 3:\n",
        "    x = input('quel est le premier nombre pair ? ')\n",
        "    if x != 'deux':\n",
        "      print('Too bad! that is not the correct answer')\n",
        "      counter = counter +1 \n",
        "      \n",
        "    else:\n",
        "      print('Good job! This is the right answer')\n",
        "      break\n",
        "\n",
        "    if counter == 3:\n",
        "      print('Too bad, you lost the game !')\n",
        " \n",
        "\n",
        "question()"
      ],
      "execution_count": null,
      "outputs": []
    },
    {
      "cell_type": "code",
      "metadata": {
        "colab": {
          "base_uri": "https://localhost:8080/"
        },
        "id": "0HpVsvvFR2F7",
        "outputId": "bd6377b7-f71b-4356-e89e-095ef2c18026"
      },
      "source": [
        "def question(q,a):\n",
        "\n",
        "  counter = 0\n",
        "  while counter < 3:\n",
        "    x = input(q).lower()\n",
        "    if x != a.lower():\n",
        "      print('Too bad! that is not the correct answer')\n",
        "      counter = counter +1 \n",
        "      \n",
        "    else:\n",
        "      print('Good job! This is the right answer')\n",
        "      break\n",
        "\n",
        "    if counter == 3:\n",
        "      print('Too bad, you lost the game !')\n",
        " \n",
        "\n",
        "question('Quelle est la couleur du cheval blanc ?\\n','blanc')\n",
        "question('Quelle est la couleur du cheval bleu ?\\n','bleu')\n",
        "question('Quelle est la couleur du cheval noir ?\\n','noir')"
      ],
      "execution_count": 17,
      "outputs": [
        {
          "output_type": "stream",
          "text": [
            "Quelle est la couleur du cheval blanc ?\n",
            "blanc\n",
            "Good job! This is the right answer\n",
            "Quelle est la couleur du cheval bleu ?\n",
            "bleu\n",
            "Good job! This is the right answer\n",
            "Quelle est la couleur du cheval noir ?\n",
            "noir\n",
            "Good job! This is the right answer\n"
          ],
          "name": "stdout"
        }
      ]
    },
    {
      "cell_type": "markdown",
      "metadata": {
        "id": "sLMbYgaOyxiX"
      },
      "source": [
        "There's a problem with our quizz : if the user has not given the right answer, the program goes to next question. We would rather like to ask again the same question if the answer was wrong.\n",
        "\n",
        "5. Using a `while` loop, make sure that the same question will be asked again when the answer was wrong\n",
        "\n",
        "6. Rewrite your code such that this behaviour is applied to all questions."
      ]
    },
    {
      "cell_type": "markdown",
      "metadata": {
        "id": "nh4voWn8x3dM"
      },
      "source": [
        "Now, we would like to tackle a last problem : we want to allow only 3 wrong answers (among all questions).\n",
        "\n",
        "7. Improve your code : if the user makes 3 wrong answers, the program should stop and print (\"Too bad, you lost the game !\")\n"
      ]
    },
    {
      "cell_type": "code",
      "metadata": {
        "colab": {
          "base_uri": "https://localhost:8080/"
        },
        "id": "p-8RwBZ4Gdom",
        "outputId": "eef0e552-05f3-4597-e925-94ff1bd362ff"
      },
      "source": [
        " liste = {'quel est le premier nombre pair en lettres svp ? \\n' : 'deux',\n",
        "          'Quelle année correspond en chiffres à MCMLXXVI ? \\n' : '1976',\n",
        "          'Qui a décidé d\\'arrêter de conseiller Trump après la sortie des USA de l\\'accord de Paris ?  \\n  ' :'Elon Musk' }\n",
        "\n",
        "def question_2():\n",
        "  counter = 0\n",
        "  for elem in liste.items():\n",
        "    while counter < 3:\n",
        "      x = input(elem[0]).lower()\n",
        "      if x != elem[1].lower():\n",
        "        print('Too bad! that is not the correct answer')\n",
        "        counter = counter +1 \n",
        "        \n",
        "        \n",
        "      else:\n",
        "        print('Good job! This is the right answer')\n",
        "        break\n",
        "\n",
        "      if counter == 3:\n",
        "        print('Too bad, you lost the game !')\n",
        " \n",
        "\n",
        "question_2()\n",
        "\n"
      ],
      "execution_count": 18,
      "outputs": [
        {
          "output_type": "stream",
          "text": [
            "quel est le premier nombre pair en lettres svp ? \n",
            "deux\n",
            "Good job! This is the right answer\n",
            "Quelle année correspond en chiffres à MCMLXXVI ? \n",
            "1976\n",
            "Good job! This is the right answer\n",
            "Qui a décidé d'arrêter de conseiller Trump après la sortie des USA de l'accord de Paris ?  \n",
            "  Peter Thiel\n",
            "Too bad! that is not the correct answer\n",
            "Qui a décidé d'arrêter de conseiller Trump après la sortie des USA de l'accord de Paris ?  \n",
            "  Vladimir\n",
            "Too bad! that is not the correct answer\n",
            "Qui a décidé d'arrêter de conseiller Trump après la sortie des USA de l'accord de Paris ?  \n",
            "  elon musk\n",
            "Good job! This is the right answer\n"
          ],
          "name": "stdout"
        }
      ]
    }
  ]
}